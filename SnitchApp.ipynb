{
  "nbformat": 4,
  "nbformat_minor": 0,
  "metadata": {
    "colab": {
      "name": "SnitchApp.ipynb",
      "provenance": [],
      "collapsed_sections": [],
      "authorship_tag": "ABX9TyNNxY+4+i5t56URGEHpBzUM",
      "include_colab_link": true
    },
    "kernelspec": {
      "name": "python3",
      "display_name": "Python 3"
    },
    "language_info": {
      "name": "python"
    }
  },
  "cells": [
    {
      "cell_type": "markdown",
      "metadata": {
        "id": "view-in-github",
        "colab_type": "text"
      },
      "source": [
        "<a href=\"https://colab.research.google.com/github/EvanWieland/Snitch/blob/main/SnitchApp.ipynb\" target=\"_parent\"><img src=\"https://colab.research.google.com/assets/colab-badge.svg\" alt=\"Open In Colab\"/></a>"
      ]
    },
    {
      "cell_type": "markdown",
      "metadata": {
        "id": "OaerWtEbim77"
      },
      "source": [
        "# Download data"
      ]
    },
    {
      "cell_type": "code",
      "metadata": {
        "colab": {
          "base_uri": "https://localhost:8080/"
        },
        "id": "vf-clC2XjC11",
        "outputId": "80e5fdcf-2cc7-4255-9a0a-62e8547eb011"
      },
      "source": [
        "!wget https://github.com/EvanWieland/Snitch/raw/main/data.zip"
      ],
      "execution_count": 44,
      "outputs": [
        {
          "output_type": "stream",
          "name": "stdout",
          "text": [
            "--2021-09-01 13:41:27--  https://github.com/EvanWieland/Snitch/raw/main/data.zip\n",
            "Resolving github.com (github.com)... 140.82.112.3\n",
            "Connecting to github.com (github.com)|140.82.112.3|:443... connected.\n",
            "HTTP request sent, awaiting response... 302 Found\n",
            "Location: https://raw.githubusercontent.com/EvanWieland/Snitch/main/data.zip [following]\n",
            "--2021-09-01 13:41:27--  https://raw.githubusercontent.com/EvanWieland/Snitch/main/data.zip\n",
            "Resolving raw.githubusercontent.com (raw.githubusercontent.com)... 185.199.108.133, 185.199.109.133, 185.199.110.133, ...\n",
            "Connecting to raw.githubusercontent.com (raw.githubusercontent.com)|185.199.108.133|:443... connected.\n",
            "HTTP request sent, awaiting response... 200 OK\n",
            "Length: 24477942 (23M) [application/zip]\n",
            "Saving to: ‘data.zip’\n",
            "\n",
            "data.zip            100%[===================>]  23.34M  --.-KB/s    in 0.1s    \n",
            "\n",
            "2021-09-01 13:41:28 (187 MB/s) - ‘data.zip’ saved [24477942/24477942]\n",
            "\n"
          ]
        }
      ]
    },
    {
      "cell_type": "code",
      "metadata": {
        "colab": {
          "base_uri": "https://localhost:8080/"
        },
        "id": "d-cTdpEQitvl",
        "outputId": "a41b26f0-65a1-4bc1-c619-1132a3bce730"
      },
      "source": [
        "!rm -rf data\n",
        "\n",
        "!unzip data.zip\n",
        "!unzip data/prediction.zip -d data\n",
        "\n",
        "# Clean up\n",
        "!rm -rf __MACOSX/\n",
        "!rm -rf data.zip"
      ],
      "execution_count": 45,
      "outputs": [
        {
          "output_type": "stream",
          "name": "stdout",
          "text": [
            "Archive:  data.zip\n",
            "   creating: data/\n",
            "  inflating: __MACOSX/._data         \n",
            "  inflating: data/.DS_Store          \n",
            "  inflating: __MACOSX/data/._.DS_Store  \n",
            "  inflating: data/test.zip           \n",
            "  inflating: data/prediction.zip     \n",
            "  inflating: data/train.csv          \n",
            "  inflating: __MACOSX/data/._train.csv  \n",
            "  inflating: data/train.zip          \n",
            "  inflating: data/sample_submission.csv  \n",
            "  inflating: __MACOSX/data/._sample_submission.csv  \n",
            "Archive:  data/prediction.zip\n",
            "   creating: data/prediction/\n",
            "  inflating: data/prediction/8.jpg   \n",
            "  inflating: data/__MACOSX/prediction/._8.jpg  \n",
            "  inflating: data/prediction/9.jpg   \n",
            "  inflating: data/__MACOSX/prediction/._9.jpg  \n",
            "  inflating: data/prediction/10.jpg  \n",
            "  inflating: data/__MACOSX/prediction/._10.jpg  \n",
            "  inflating: data/prediction/4.jpg   \n",
            "  inflating: data/__MACOSX/prediction/._4.jpg  \n",
            "  inflating: data/prediction/5.jpg   \n",
            "  inflating: data/__MACOSX/prediction/._5.jpg  \n",
            "  inflating: data/prediction/7.jpg   \n",
            "  inflating: data/__MACOSX/prediction/._7.jpg  \n",
            "  inflating: data/prediction/6.jpg   \n",
            "  inflating: data/__MACOSX/prediction/._6.jpg  \n",
            "  inflating: data/prediction/2.jpg   \n",
            "  inflating: data/__MACOSX/prediction/._2.jpg  \n",
            "  inflating: data/prediction/3.jpg   \n",
            "  inflating: data/__MACOSX/prediction/._3.jpg  \n",
            "  inflating: data/prediction/1.jpg   \n",
            "  inflating: data/__MACOSX/prediction/._1.jpg  \n"
          ]
        }
      ]
    },
    {
      "cell_type": "markdown",
      "metadata": {
        "id": "6psp1EzHj_TZ"
      },
      "source": [
        "# Download model"
      ]
    },
    {
      "cell_type": "code",
      "metadata": {
        "colab": {
          "base_uri": "https://localhost:8080/"
        },
        "id": "IRaIc5sVkMpM",
        "outputId": "72297421-369a-4e67-ce84-31dc20d71498"
      },
      "source": [
        "!wget -O model.h5 https://github.com/EvanWieland/Snitch/raw/main/epoch_60_finetuned.h5"
      ],
      "execution_count": 46,
      "outputs": [
        {
          "output_type": "stream",
          "name": "stdout",
          "text": [
            "--2021-09-01 13:41:29--  https://github.com/EvanWieland/Snitch/raw/main/epoch_60_finetuned.h5\n",
            "Resolving github.com (github.com)... 140.82.113.3\n",
            "Connecting to github.com (github.com)|140.82.113.3|:443... connected.\n",
            "HTTP request sent, awaiting response... 302 Found\n",
            "Location: https://raw.githubusercontent.com/EvanWieland/Snitch/main/epoch_60_finetuned.h5 [following]\n",
            "--2021-09-01 13:41:29--  https://raw.githubusercontent.com/EvanWieland/Snitch/main/epoch_60_finetuned.h5\n",
            "Resolving raw.githubusercontent.com (raw.githubusercontent.com)... 185.199.108.133, 185.199.109.133, 185.199.110.133, ...\n",
            "Connecting to raw.githubusercontent.com (raw.githubusercontent.com)|185.199.108.133|:443... connected.\n",
            "HTTP request sent, awaiting response... 200 OK\n",
            "Length: 24380840 (23M) [application/octet-stream]\n",
            "Saving to: ‘model.h5’\n",
            "\n",
            "model.h5            100%[===================>]  23.25M  --.-KB/s    in 0.1s    \n",
            "\n",
            "2021-09-01 13:41:29 (180 MB/s) - ‘model.h5’ saved [24380840/24380840]\n",
            "\n"
          ]
        }
      ]
    },
    {
      "cell_type": "markdown",
      "metadata": {
        "id": "4g9lnCuyiwYe"
      },
      "source": [
        "# Import deps"
      ]
    },
    {
      "cell_type": "code",
      "metadata": {
        "colab": {
          "base_uri": "https://localhost:8080/"
        },
        "id": "L45Id3ASiU9u",
        "outputId": "9c54c201-9282-4cae-d84b-7fd521876861"
      },
      "source": [
        "import tensorflow as tf\n",
        "from keras.preprocessing.image import load_img\n",
        "from keras.preprocessing.image import img_to_array\n",
        "from keras.preprocessing.image import save_img\n",
        "from keras.models import load_model\n",
        "from IPython.display import Image, display\n",
        "\n",
        "print(tf.__version__)"
      ],
      "execution_count": 67,
      "outputs": [
        {
          "output_type": "stream",
          "name": "stdout",
          "text": [
            "2.6.0\n"
          ]
        }
      ]
    },
    {
      "cell_type": "markdown",
      "metadata": {
        "id": "EUGn2cNFi7CW"
      },
      "source": [
        "# Restore Model"
      ]
    },
    {
      "cell_type": "code",
      "metadata": {
        "id": "bkOCMlj5jAFz"
      },
      "source": [
        "model = load_model('model.h5')"
      ],
      "execution_count": 48,
      "outputs": []
    },
    {
      "cell_type": "markdown",
      "metadata": {
        "id": "7mrgpW_efa1C"
      },
      "source": [
        "# Image Preprocessor"
      ]
    },
    {
      "cell_type": "code",
      "metadata": {
        "id": "N5Xb2FfFfn9S"
      },
      "source": [
        "def load_image(filename):\n",
        "\t# load the image\n",
        "\timg = load_img(filename, target_size=(96, 96))\n",
        "\t# convert to array\n",
        "\timg_array = img_to_array(img)\n",
        "\t# reshape into a single sample with 3 channels\n",
        "\timg = img_array.reshape(1, 96, 96, 3)\n",
        "\t# center pixel data\n",
        "\timg = img.astype('float32')\n",
        "\timg = img - [123.68, 116.779, 103.939]\n",
        "\treturn img, img_array"
      ],
      "execution_count": 85,
      "outputs": []
    },
    {
      "cell_type": "markdown",
      "metadata": {
        "id": "p3SVXwwQf02V"
      },
      "source": [
        "# Predictor"
      ]
    },
    {
      "cell_type": "code",
      "metadata": {
        "id": "kSWhfUq9f7XR"
      },
      "source": [
        "def predict(image_path):\n",
        "  # load the image\n",
        "  img = load_image(image_path)\n",
        "  # load model\n",
        "  # predict the class\n",
        "  result = model.predict(img[0])\n",
        "  save_img('tmp.jpg', img[1])\n",
        "  display(Image('tmp.jpg'))\n",
        "  print(result[0])"
      ],
      "execution_count": 94,
      "outputs": []
    },
    {
      "cell_type": "markdown",
      "metadata": {
        "id": "qWZck-NLgL_v"
      },
      "source": [
        "# Run Prediction"
      ]
    },
    {
      "cell_type": "code",
      "metadata": {
        "colab": {
          "base_uri": "https://localhost:8080/",
          "height": 1000
        },
        "id": "bkV4GtG5gcmx",
        "outputId": "e8f19401-fc14-40bb-b847-53c3a84b8be7"
      },
      "source": [
        "for i in range(1,10):\n",
        "  img = \"data/prediction/\" + str(i) + \".jpg\"\n",
        "  predict(img);"
      ],
      "execution_count": 95,
      "outputs": [
        {
          "output_type": "display_data",
          "data": {
            "image/jpeg": "[encoded data removed]",
            "text/plain": [
              "<IPython.core.display.Image object>"
            ]
          },
          "metadata": {}
        },
        {
          "output_type": "stream",
          "name": "stdout",
          "text": [
            "[0.08941609]\n"
          ]
        },
        {
          "output_type": "display_data",
          "data": {
            "image/jpeg": "[encoded data removed]",
            "text/plain": [
              "<IPython.core.display.Image object>"
            ]
          },
          "metadata": {}
        },
        {
          "output_type": "stream",
          "name": "stdout",
          "text": [
            "[0.3933967]\n"
          ]
        },
        {
          "output_type": "display_data",
          "data": {
            "image/jpeg": "[encoded data removed]",
            "text/plain": [
              "<IPython.core.display.Image object>"
            ]
          },
          "metadata": {}
        },
        {
          "output_type": "stream",
          "name": "stdout",
          "text": [
            "[0.9997447]\n"
          ]
        },
        {
          "output_type": "display_data",
          "data": {
            "image/jpeg": "[encoded data removed]",
            "text/plain": [
              "<IPython.core.display.Image object>"
            ]
          },
          "metadata": {}
        },
        {
          "output_type": "stream",
          "name": "stdout",
          "text": [
            "[0.9261003]\n"
          ]
        },
        {
          "output_type": "display_data",
          "data": {
            "image/jpeg": "[encoded data removed]",
            "text/plain": [
              "<IPython.core.display.Image object>"
            ]
          },
          "metadata": {}
        },
        {
          "output_type": "stream",
          "name": "stdout",
          "text": [
            "[0.8925047]\n"
          ]
        },
        {
          "output_type": "display_data",
          "data": {
            "image/jpeg": "[encoded data removed]",
            "text/plain": [
              "<IPython.core.display.Image object>"
            ]
          },
          "metadata": {}
        },
        {
          "output_type": "stream",
          "name": "stdout",
          "text": [
            "[0.99815094]\n"
          ]
        },
        {
          "output_type": "display_data",
          "data": {
            "image/jpeg": "[encoded data removed]",
            "text/plain": [
              "<IPython.core.display.Image object>"
            ]
          },
          "metadata": {}
        },
        {
          "output_type": "stream",
          "name": "stdout",
          "text": [
            "[0.03865165]\n"
          ]
        },
        {
          "output_type": "display_data",
          "data": {
            "image/jpeg": "[encoded data removed]",
            "text/plain": [
              "<IPython.core.display.Image object>"
            ]
          },
          "metadata": {}
        },
        {
          "output_type": "stream",
          "name": "stdout",
          "text": [
            "[0.81578696]\n"
          ]
        },
        {
          "output_type": "display_data",
          "data": {
            "image/jpeg": "[encoded data removed]",
            "text/plain": [
              "<IPython.core.display.Image object>"
            ]
          },
          "metadata": {}
        },
        {
          "output_type": "stream",
          "name": "stdout",
          "text": [
            "[0.24111658]\n"
          ]
        }
      ]
    }
  ]
}